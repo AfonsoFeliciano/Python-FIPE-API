{
 "cells": [
  {
   "cell_type": "code",
   "execution_count": 1,
   "metadata": {},
   "outputs": [],
   "source": [
    "import requests\n",
    "import pandas as pd\n",
    "import time\n",
    "import json\n",
    "import os\n",
    "from requests.adapters import HTTPAdapter, Retry"
   ]
  },
  {
   "cell_type": "code",
   "execution_count": 2,
   "metadata": {},
   "outputs": [],
   "source": [
    "#Consulta todas as marcas\n",
    "url_marcas = \"https://parallelum.com.br/fipe/api/v1/carros/marcas\"\n",
    "marcas = requests.get(url_marcas, headers={\"User-Agent\": \"XY\"})\n",
    "marcas = marcas.json()\n",
    "marcas = json.dumps(marcas)"
   ]
  },
  {
   "cell_type": "code",
   "execution_count": 3,
   "metadata": {},
   "outputs": [],
   "source": [
    "#Cria diretório caso não exista\n",
    "path_marcas = \"marcas\"\n",
    "\n",
    "if not os.path.isdir(path_marcas):\n",
    "    os.makedirs(path_marcas)"
   ]
  },
  {
   "cell_type": "code",
   "execution_count": 4,
   "metadata": {},
   "outputs": [],
   "source": [
    "json_file = open(f\"{path_marcas}/marcas.json\", \"w\")\n",
    "json_file.write(marcas)\n",
    "json_file.close()"
   ]
  }
 ],
 "metadata": {
  "kernelspec": {
   "display_name": "base",
   "language": "python",
   "name": "python3"
  },
  "language_info": {
   "codemirror_mode": {
    "name": "ipython",
    "version": 3
   },
   "file_extension": ".py",
   "mimetype": "text/x-python",
   "name": "python",
   "nbconvert_exporter": "python",
   "pygments_lexer": "ipython3",
   "version": "3.9.12"
  },
  "orig_nbformat": 4,
  "vscode": {
   "interpreter": {
    "hash": "ad2bdc8ecc057115af97d19610ffacc2b4e99fae6737bb82f5d7fb13d2f2c186"
   }
  }
 },
 "nbformat": 4,
 "nbformat_minor": 2
}
